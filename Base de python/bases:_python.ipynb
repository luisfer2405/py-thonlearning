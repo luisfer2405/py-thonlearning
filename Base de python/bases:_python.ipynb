{
 "cells": [
  {
   "cell_type": "markdown",
   "metadata": {},
   "source": [
    "## Bases de python\n",
    "EMPEZAREMOS \n",
    "\n",
    "\n",
    "la de finicion de datos y los tipos de datos es  uno de los conceptos basicos de cualquier lenguaje y nos ayuda a entender mejor que tipo de accion podemos hacer con ellos\n"
   ]
  },
  {
   "cell_type": "code",
   "execution_count": null,
   "metadata": {},
   "outputs": [],
   "source": [
    "#tenemos la definicion de datos como pueden ser \n",
    "\n",
    "numeros  = 1\n",
    "letras = \"texto\"\n",
    "booleanos = \"verdadero o falso\"\n",
    "numeros_decimales = 1.3\n",
    "\n",
    "#esto nos da a entender que la definicion de una variable se da por el nombre de la misma seguida por un signo de igual y el valor que le quieras dar."
   ]
  },
  {
   "cell_type": "markdown",
   "metadata": {},
   "source": [
    "# Tipos de datos \n",
    "en estas definiciones encontramos los tipos de datos aceptados por python \n",
    "\n",
    "## Datos Enteros\n",
    "son todos aquellos datos que contienen un numero entero sin decimales en su estructura, estos son definidos como <b>int</b> y tienen operaciones posibles entre si  \n"
   ]
  },
  {
   "cell_type": "code",
   "execution_count": 3,
   "metadata": {
    "metadata": {}
   },
   "outputs": [
    {
     "name": "stdout",
     "output_type": "stream",
     "text": [
      "esta es la  32\n"
     ]
    }
   ],
   "source": [
    "#entre todas las operaciones posibles de realizar con numeros enteros(int) estos son un ejemplo \n",
    "\n",
    "n1 = int(20)\n",
    "n2 = int(12)\n",
    "\n",
    "suma = n1 + n2\n",
    "print( \"esta es la \",suma)\n",
    "\n",
    "multiplicacion = n1 * n2 \n",
    "\n",
    "print(\"esta es la multiplicacio\", multiplicacion )\n",
    "\n",
    "division= n1 / n2\n",
    "\n",
    "print(\"esta es la division\",division)\n",
    "\n",
    "modulacion = n1 % n2 \n",
    "\n",
    "print(\"esta es la modulacion\",modulacion)\n",
    "\n",
    "exponenciacion ="
   ]
  },
  {
   "cell_type": "code",
   "execution_count": null,
   "metadata": {},
   "outputs": [],
   "source": []
  }
 ],
 "metadata": {
  "kernelspec": {
   "display_name": "Python 3",
   "language": "python",
   "name": "python3"
  },
  "language_info": {
   "codemirror_mode": {
    "name": "ipython",
    "version": 3
   },
   "file_extension": ".py",
   "mimetype": "text/x-python",
   "name": "python",
   "nbconvert_exporter": "python",
   "pygments_lexer": "ipython3",
   "version": "3.10.12"
  }
 },
 "nbformat": 4,
 "nbformat_minor": 2
}
